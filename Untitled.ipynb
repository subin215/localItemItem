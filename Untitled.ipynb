{
 "cells": [
  {
   "cell_type": "code",
   "execution_count": 1,
   "metadata": {
    "colab": {},
    "colab_type": "code",
    "id": "2cebusE9V7jG"
   },
   "outputs": [
    {
     "name": "stderr",
     "output_type": "stream",
     "text": [
      "/usr/local/lib/python3.6/dist-packages/matplotlib/__init__.py:886: MatplotlibDeprecationWarning: \n",
      "examples.directory is deprecated; in the future, examples will be found relative to the 'datapath' directory.\n",
      "  \"found relative to the 'datapath' directory.\".format(key))\n"
     ]
    }
   ],
   "source": [
    "# import base packages needed in most data-science tasks.\n",
    "import pandas as pd\n",
    "import numpy as np\n",
    "import matplotlib.pyplot as plt\n",
    "from scipy import sparse as sps\n",
    "from sklearn.cluster import KMeans\n",
    "from sklearn.linear_model import SGDRegressor\n",
    "from tqdm import tqdm\n",
    "%matplotlib inline\n",
    "import seaborn as sns\n",
    "import sys\n",
    "sns.set()"
   ]
  },
  {
   "cell_type": "code",
   "execution_count": 62,
   "metadata": {
    "colab": {},
    "colab_type": "code",
    "id": "te2Y-EAQWmQE"
   },
   "outputs": [
    {
     "name": "stdout",
     "output_type": "stream",
     "text": [
      "^C\n",
      "Traceback (most recent call last):\n",
      "  File \"/usr/local/bin/pip\", line 7, in <module>\n",
      "    from pip._internal import main\n",
      "  File \"/home/subin/.local/lib/python2.7/site-packages/pip/_internal/__init__.py\", line 40, in <module>\n",
      "    from pip._internal.cli.autocompletion import autocomplete\n",
      "  File \"/home/subin/.local/lib/python2.7/site-packages/pip/_internal/cli/autocompletion.py\", line 8, in <module>\n",
      "    from pip._internal.cli.main_parser import create_main_parser\n",
      "  File \"/home/subin/.local/lib/python2.7/site-packages/pip/_internal/cli/main_parser.py\", line 12, in <module>\n",
      "    from pip._internal.commands import (\n",
      "  File \"/home/subin/.local/lib/python2.7/site-packages/pip/_internal/commands/__init__.py\", line 6, in <module>\n",
      "    from pip._internal.commands.completion import CompletionCommand\n",
      "  File \"/home/subin/.local/lib/python2.7/site-packages/pip/_internal/commands/completion.py\", line 6, in <module>\n",
      "    from pip._internal.cli.base_command import Command\n",
      "  File \"/home/subin/.local/lib/python2.7/site-packages/pip/_internal/cli/base_command.py\", line 25, in <module>\n",
      "    from pip._internal.index import PackageFinder\n",
      "  File \"/home/subin/.local/lib/python2.7/site-packages/pip/_internal/index.py\", line 41, in <module>\n",
      "    from pip._internal.wheel import Wheel\n",
      "  File \"/home/subin/.local/lib/python2.7/site-packages/pip/_internal/wheel.py\", line 8, in <module>\n",
      "    import csv\n",
      "  File \"/usr/lib/python2.7/csv.py\", line 8, in <module>\n",
      "    from _csv import Error, __version__, writer, reader, register_dialect, \\\n",
      "KeyboardInterrupt\n"
     ]
    },
    {
     "ename": "ModuleNotFoundError",
     "evalue": "No module named 'pydrive'",
     "output_type": "error",
     "traceback": [
      "\u001b[0;31m---------------------------------------------------------------------------\u001b[0m",
      "\u001b[0;31mModuleNotFoundError\u001b[0m                       Traceback (most recent call last)",
      "\u001b[0;32m<ipython-input-62-e1aaa97b4362>\u001b[0m in \u001b[0;36m<module>\u001b[0;34m\u001b[0m\n\u001b[1;32m      2\u001b[0m \u001b[0mget_ipython\u001b[0m\u001b[0;34m(\u001b[0m\u001b[0;34m)\u001b[0m\u001b[0;34m.\u001b[0m\u001b[0msystem\u001b[0m\u001b[0;34m(\u001b[0m\u001b[0;34m'pip install -U -q PyDrive'\u001b[0m\u001b[0;34m)\u001b[0m\u001b[0;34m\u001b[0m\u001b[0;34m\u001b[0m\u001b[0m\n\u001b[1;32m      3\u001b[0m \u001b[0;34m\u001b[0m\u001b[0m\n\u001b[0;32m----> 4\u001b[0;31m \u001b[0;32mfrom\u001b[0m \u001b[0mpydrive\u001b[0m\u001b[0;34m.\u001b[0m\u001b[0mauth\u001b[0m \u001b[0;32mimport\u001b[0m \u001b[0mGoogleAuth\u001b[0m\u001b[0;34m\u001b[0m\u001b[0;34m\u001b[0m\u001b[0m\n\u001b[0m\u001b[1;32m      5\u001b[0m \u001b[0;32mfrom\u001b[0m \u001b[0mpydrive\u001b[0m\u001b[0;34m.\u001b[0m\u001b[0mdrive\u001b[0m \u001b[0;32mimport\u001b[0m \u001b[0mGoogleDrive\u001b[0m\u001b[0;34m\u001b[0m\u001b[0;34m\u001b[0m\u001b[0m\n\u001b[1;32m      6\u001b[0m \u001b[0;32mfrom\u001b[0m \u001b[0mgoogle\u001b[0m\u001b[0;34m.\u001b[0m\u001b[0mcolab\u001b[0m \u001b[0;32mimport\u001b[0m \u001b[0mauth\u001b[0m\u001b[0;34m\u001b[0m\u001b[0;34m\u001b[0m\u001b[0m\n",
      "\u001b[0;31mModuleNotFoundError\u001b[0m: No module named 'pydrive'"
     ]
    }
   ],
   "source": [
    "# Need to run in order to connect to google drive\n",
    "!pip install -U -q PyDrive\n",
    " \n",
    "from pydrive.auth import GoogleAuth\n",
    "from pydrive.drive import GoogleDrive\n",
    "from google.colab import auth\n",
    "from oauth2client.client import GoogleCredentials\n",
    " \n",
    "# 1. Authenticate and create the PyDrive client.\n",
    "auth.authenticate_user()\n",
    "gauth = GoogleAuth()\n",
    "gauth.credentials = GoogleCredentials.get_application_default()\n",
    "drive = GoogleDrive(gauth)"
   ]
  },
  {
   "cell_type": "code",
   "execution_count": null,
   "metadata": {
    "colab": {},
    "colab_type": "code",
    "id": "U-aU-t5BWn2G"
   },
   "outputs": [],
   "source": [
    "\n",
    "ratings_download = drive.CreateFile({'id': '1L7q4xZPu40jrxFX_fvOQUGUj2ZrjKb3J'})\n",
    "ratings_download.GetContentFile('ratings.csv')\n",
    "\n",
    "movies_downloaded = drive.CreateFile({'id': '1U-B7mEf6x9w4woG2rABmS5nzktHfGHwQ'})\n",
    "movies_downloaded.GetContentFile('movies.csv')"
   ]
  },
  {
   "cell_type": "code",
   "execution_count": 2,
   "metadata": {
    "colab": {},
    "colab_type": "code",
    "id": "XHekXYJ6XK0f"
   },
   "outputs": [],
   "source": [
    "#ratings = pd.read_csv('ratings.csv')\n",
    "ratings = pd.read_csv('data/ml-latest-small/ratings.csv')\n",
    "ratings.rename(columns={'movieId':'item', 'userId':'user'}, inplace=True)\n",
    "ratings = ratings[ratings['user']< 100]"
   ]
  },
  {
   "cell_type": "code",
   "execution_count": 3,
   "metadata": {
    "colab": {},
    "colab_type": "code",
    "id": "P2TAi1EFXOFm"
   },
   "outputs": [],
   "source": [
    "#movies = pd.read_csv('movies.csv')\n",
    "movies = pd.read_csv('data/ml-latest-small/movies.csv')\n",
    "movies.rename(columns={'movieId':'item'}, inplace=True)"
   ]
  },
  {
   "cell_type": "code",
   "execution_count": 4,
   "metadata": {
    "colab": {},
    "colab_type": "code",
    "id": "a7tKIaQoXTfF"
   },
   "outputs": [],
   "source": [
    "movie_titles = movies.set_index('item')['title']"
   ]
  },
  {
   "cell_type": "code",
   "execution_count": 5,
   "metadata": {
    "colab": {},
    "colab_type": "code",
    "id": "wfHgo6vMXWT0"
   },
   "outputs": [],
   "source": [
    "item_ratings = ratings.set_index(['item','user'])"
   ]
  },
  {
   "cell_type": "code",
   "execution_count": 6,
   "metadata": {
    "colab": {},
    "colab_type": "code",
    "id": "dllLnbJqXbbU"
   },
   "outputs": [],
   "source": [
    "ratings['rating'] = ratings['rating'].apply(lambda x: 1 if x > 0 else 0)"
   ]
  },
  {
   "cell_type": "code",
   "execution_count": 7,
   "metadata": {
    "colab": {},
    "colab_type": "code",
    "id": "yEFzzkUEXdH0"
   },
   "outputs": [],
   "source": [
    "item_index = pd.Index(ratings['item'].unique())\n",
    "user_index = pd.Index(ratings['user'].unique())\n",
    "norm_mat = sps.csr_matrix((ratings['rating'].values,\n",
    " \t(user_index.get_indexer(ratings['user']), item_index.get_indexer(ratings['item']))))"
   ]
  },
  {
   "cell_type": "code",
   "execution_count": 28,
   "metadata": {
    "colab": {},
    "colab_type": "code",
    "id": "u-um48ISXeVd"
   },
   "outputs": [],
   "source": [
    "m = item_index.shape[0]\n",
    "n = user_index.shape[0]\n",
    "\n",
    "g = np.full(user_index.shape, 0.5)\n",
    "g_prime = 1-g\n",
    "\n",
    "beta_g = 10\n",
    "beta_l = 7\n",
    "\n",
    "lambda_g = 1\n",
    "lambda_l = 1\n",
    "\n",
    "R = norm_mat.A\n",
    "\n",
    "S = np.random.rand(m,m)"
   ]
  },
  {
   "cell_type": "code",
   "execution_count": 29,
   "metadata": {
    "colab": {},
    "colab_type": "code",
    "id": "N3GBa45dXwaK"
   },
   "outputs": [],
   "source": [
    "def get_pu(mat_to_cluster, num_clusters = 5):\n",
    "    k_means = KMeans(n_clusters=num_clusters)\n",
    "    k_means.fit(mat_to_cluster)\n",
    "    return [user_index[k_means.labels_ == i] for i in np.unique(k_means.labels_)]\n",
    "pu = np.array(get_pu(norm_mat, 5))"
   ]
  },
  {
   "cell_type": "code",
   "execution_count": 30,
   "metadata": {
    "colab": {},
    "colab_type": "code",
    "id": "vloDpxVzXxvL"
   },
   "outputs": [],
   "source": [
    "def get_R_pu(pu):\n",
    "    R_pu = []\n",
    "    for i in range(pu.shape[0]):\n",
    "        temp = ratings.set_index('user').loc[pu[i]].reset_index().copy()\n",
    "        mat = sps.csr_matrix((temp['rating'].values, (user_index.get_indexer(temp['user']), item_index.get_indexer(temp['item']))), shape=(R.shape[0],R.shape[1]))\n",
    "        R_pu.append(mat.todense())\n",
    "    return np.array(R_pu)\n",
    "R_pu = get_R_pu(pu)"
   ]
  },
  {
   "cell_type": "code",
   "execution_count": 31,
   "metadata": {
    "colab": {},
    "colab_type": "code",
    "id": "LM1A9BhMX1vS"
   },
   "outputs": [],
   "source": [
    "def regularize_global(S, i, beta_g, lambda_g):\n",
    "    return (0.5*beta_g*pow(np.linalg.norm(S[:,i]), 2)) + (lambda_g*np.linalg.norm(S[:,i], ord=1))\n",
    "\n",
    "\n",
    "def regularize_local(S_pu, i, beta_l, lambda_l):\n",
    "    sum_l = 0.0\n",
    "    for elm in S_pu:\n",
    "        sum_l = sum_l + (0.5*beta_l*pow(np.linalg.norm(elm[:,i]), 2)) + (lambda_l*np.linalg.norm(elm[:,i], ord=1))\n",
    "    return sum_l\n",
    "\n",
    "\n",
    "def init_component(R, R_pu, S, S_pu, i, g, g_prime):\n",
    "    \"\"\" \n",
    "    Parameters: \n",
    "    R (matrix): Rating matrix - users X items.\n",
    "    R_pu (matrix): Rating matrices for all clusters of users.\n",
    "    S (matri): Similarity matrix - item X item\n",
    "    S_pu (matrix): Similarity matrices of all clusters of users.\n",
    "    g : personalized weights for all users - users X 1\n",
    "    g_prime : complement of personalized weights for all users - users X 1\n",
    "    \"\"\"\n",
    "    sum_l = np.zeros(R.shape[0],)\n",
    "    for idx, elm in enumerate(S_pu):\n",
    "        sum_l = sum_l + np.array(R_pu[idx]@elm[:,i])\n",
    "    np.multiply(g_prime, sum_l)\n",
    "    temp = np.multiply(g, R@S[:,i])\n",
    "    temp = R[:,i] - temp\n",
    "    return 0.5*pow(np.linalg.norm(temp, 2),2)"
   ]
  },
  {
   "cell_type": "code",
   "execution_count": 32,
   "metadata": {
    "colab": {},
    "colab_type": "code",
    "id": "lGaXzQtsc1KS"
   },
   "outputs": [],
   "source": [
    "#S_pu = np.array([np.random.rand(m,m) for i in range(pu.shape[0])])\n",
    "S = sps.lil_matrix((m,m))\n",
    "S_pu = [sps.lil_matrix((m,m)) for x in range(pu.shape[0])]"
   ]
  },
  {
   "cell_type": "code",
   "execution_count": 33,
   "metadata": {
    "colab": {},
    "colab_type": "code",
    "id": "-Zj8XgK3X4Sk"
   },
   "outputs": [],
   "source": [
    "alpha_g = lambda_g + beta_g\n",
    "l1_ratio_g = (beta_g / alpha_g)\n",
    "\n",
    "alpha_l = lambda_l + beta_l\n",
    "l1_ratio_l = (beta_l / alpha_l)\n",
    "\n",
    "sgd_g = SGDRegressor(penalty='elasticnet', fit_intercept=False, alpha=alpha_g, l1_ratio=l1_ratio_g, max_iter=1000)\n",
    "sgd_l = SGDRegressor(penalty='elasticnet', fit_intercept=False, alpha=alpha_l, l1_ratio=l1_ratio_l, tol=1e-3, max_iter=1000)\n",
    "\n",
    "R_copy = R.copy()\n",
    "R_g = np.multiply(R_copy.T,g).T\n",
    "\n",
    "R_pu_copy = np.array([np.multiply(x.T, g_prime).T for x in R_pu])\n",
    "w_g = None\n",
    "w_pu = None\n",
    "\n",
    "def compute_similarity():\n",
    "    for j in range(m):\n",
    "        rj = R_copy[:, j].copy()\n",
    "\n",
    "        R_copy[:,j] = 0\n",
    "\n",
    "        sgd_g.fit(R_copy, rj.ravel())\n",
    "\n",
    "        for i in range(pu.shape[0]):\n",
    "            r_pu_j = R_pu_copy[i][:, j].copy()\n",
    "            R_pu_copy[i][:, j] = 0\n",
    "            sgd_l.fit(R_pu_copy[i], r_pu_j.ravel())\n",
    "            R_pu_copy[i][:, j] = r_pu_j\n",
    "            w_pu = sgd_l.coef_\n",
    "            w_pu[w_pu < 0] = 0\n",
    "            for el in w_pu.nonzero()[0]:\n",
    "                S_pu[i][(el, j)] = w_pu[el]\n",
    "\n",
    "        R_copy[:, j] = rj\n",
    "        w_g = sgd_g.coef_\n",
    "\n",
    "        w_g[w_g < 0] = 0\n",
    "\n",
    "        for el in w_g.nonzero()[0]:\n",
    "            S[(el, j)] = w_g[el]"
   ]
  },
  {
   "cell_type": "code",
   "execution_count": 34,
   "metadata": {
    "colab": {},
    "colab_type": "code",
    "id": "q_k1raSuczfE"
   },
   "outputs": [],
   "source": [
    "from sklearn.metrics import mean_squared_error\n",
    "from math import sqrt\n",
    "\n",
    "def rmse(actual, pred):\n",
    "    return sqrt(mean_squared_error(actual, pred))"
   ]
  },
  {
   "cell_type": "code",
   "execution_count": 35,
   "metadata": {
    "colab": {},
    "colab_type": "code",
    "id": "ro-KblDygpuP"
   },
   "outputs": [],
   "source": [
    "def get_rating_for_user(u, cluster):\n",
    "    result = np.ones(m)\n",
    "    for idx, i in enumerate(item_index.values):\n",
    "        i = idx\n",
    "        rating_sum = 0\n",
    "        for l in range(R[u, :].shape[0]):\n",
    "            rating_sum = rating_sum + (g[u]*S.A[l,i] + g_prime[u]*S_pu[cluster].A[l, i])\n",
    "        result[i] = rating_sum\n",
    "    return result"
   ]
  },
  {
   "cell_type": "code",
   "execution_count": 36,
   "metadata": {},
   "outputs": [
    {
     "data": {
      "text/plain": [
       "array([0.])"
      ]
     },
     "execution_count": 36,
     "metadata": {},
     "output_type": "execute_result"
    }
   ],
   "source": [
    "np.unique(S_pu[0].A)"
   ]
  },
  {
   "cell_type": "code",
   "execution_count": 37,
   "metadata": {
    "colab": {
     "base_uri": "https://localhost:8080/",
     "height": 34
    },
    "colab_type": "code",
    "id": "K_B92g4wYnI9",
    "outputId": "6694ae3b-ecbb-4f5f-9999-4b0cea8d648a"
   },
   "outputs": [
    {
     "name": "stdout",
     "output_type": "stream",
     "text": [
      "0.0\n"
     ]
    },
    {
     "ename": "ZeroDivisionError",
     "evalue": "float division by zero",
     "output_type": "error",
     "traceback": [
      "\u001b[0;31m---------------------------------------------------------------------------\u001b[0m",
      "\u001b[0;31mZeroDivisionError\u001b[0m                         Traceback (most recent call last)",
      "\u001b[0;32m<ipython-input-37-01fa7189e27f>\u001b[0m in \u001b[0;36m<module>\u001b[0;34m\u001b[0m\n\u001b[1;32m     33\u001b[0m             \u001b[0muser_cluster\u001b[0m \u001b[0;34m=\u001b[0m \u001b[0mcluster\u001b[0m\u001b[0;34m\u001b[0m\u001b[0;34m\u001b[0m\u001b[0m\n\u001b[1;32m     34\u001b[0m             \u001b[0mu\u001b[0m \u001b[0;34m=\u001b[0m \u001b[0mu_idx\u001b[0m \u001b[0;31m# Convert to index from user_id\u001b[0m\u001b[0;34m\u001b[0m\u001b[0;34m\u001b[0m\u001b[0m\n\u001b[0;32m---> 35\u001b[0;31m             \u001b[0mgu_cluster\u001b[0m\u001b[0;34m[\u001b[0m\u001b[0mcluster\u001b[0m\u001b[0;34m]\u001b[0m \u001b[0;34m=\u001b[0m \u001b[0mcomp_gu\u001b[0m\u001b[0;34m(\u001b[0m\u001b[0mu\u001b[0m\u001b[0;34m,\u001b[0m \u001b[0mcluster\u001b[0m\u001b[0;34m)\u001b[0m\u001b[0;34m\u001b[0m\u001b[0;34m\u001b[0m\u001b[0m\n\u001b[0m\u001b[1;32m     36\u001b[0m             \u001b[0;31m# Compute training error\u001b[0m\u001b[0;34m\u001b[0m\u001b[0;34m\u001b[0m\u001b[0;34m\u001b[0m\u001b[0m\n\u001b[1;32m     37\u001b[0m             \u001b[0mpred\u001b[0m \u001b[0;34m=\u001b[0m \u001b[0mget_rating_for_user\u001b[0m\u001b[0;34m(\u001b[0m\u001b[0mu\u001b[0m\u001b[0;34m,\u001b[0m \u001b[0mcluster\u001b[0m\u001b[0;34m)\u001b[0m\u001b[0;34m\u001b[0m\u001b[0;34m\u001b[0m\u001b[0m\n",
      "\u001b[0;32m<ipython-input-37-01fa7189e27f>\u001b[0m in \u001b[0;36mcomp_gu\u001b[0;34m(u, cluster)\u001b[0m\n\u001b[1;32m     10\u001b[0m         \u001b[0mresult_top\u001b[0m \u001b[0;34m=\u001b[0m \u001b[0;34m(\u001b[0m\u001b[0mr_l\u001b[0m \u001b[0;34m*\u001b[0m \u001b[0mr_r\u001b[0m\u001b[0;34m)\u001b[0m \u001b[0;34m+\u001b[0m \u001b[0mresult_top\u001b[0m\u001b[0;34m\u001b[0m\u001b[0;34m\u001b[0m\u001b[0m\n\u001b[1;32m     11\u001b[0m     \u001b[0mprint\u001b[0m\u001b[0;34m(\u001b[0m\u001b[0mresult_bottom\u001b[0m\u001b[0;34m)\u001b[0m\u001b[0;34m\u001b[0m\u001b[0;34m\u001b[0m\u001b[0m\n\u001b[0;32m---> 12\u001b[0;31m     \u001b[0;32mreturn\u001b[0m \u001b[0mfloat\u001b[0m\u001b[0;34m(\u001b[0m\u001b[0mresult_top\u001b[0m\u001b[0;34m)\u001b[0m\u001b[0;34m/\u001b[0m\u001b[0mfloat\u001b[0m\u001b[0;34m(\u001b[0m\u001b[0mresult_bottom\u001b[0m\u001b[0;34m)\u001b[0m\u001b[0;34m\u001b[0m\u001b[0;34m\u001b[0m\u001b[0m\n\u001b[0m\u001b[1;32m     13\u001b[0m \u001b[0;34m\u001b[0m\u001b[0m\n\u001b[1;32m     14\u001b[0m \u001b[0;34m\u001b[0m\u001b[0m\n",
      "\u001b[0;31mZeroDivisionError\u001b[0m: float division by zero"
     ]
    }
   ],
   "source": [
    "def comp_gu(u, cluster):\n",
    "    result_bottom = 0\n",
    "    result_top = 0\n",
    "    for i_idx, i in enumerate(item_index.values):\n",
    "        i = i_idx  # Convert to index from item_id\n",
    "        sum_l, sum_g = sum_all(u, i, cluster)\n",
    "        r_r = R[u,i] - sum_l\n",
    "        r_l = sum_g - sum_l\n",
    "        result_bottom = pow((sum_g - sum_l), 2) + result_bottom\n",
    "        result_top = (r_l * r_r) + result_top\n",
    "    print(result_bottom)\n",
    "    return float(result_top)/float(result_bottom)\n",
    "    \n",
    "    \n",
    "def sum_all(u, i, cluster):\n",
    "    temp_sum_1 = 0\n",
    "    temp_sum_2 = 0\n",
    "    for l in R[:, u]:\n",
    "        temp_sum_2 = temp_sum_2 + S.A[l,i]\n",
    "        temp_sum_1 = temp_sum_1 + S_pu[cluster].A[l,i]\n",
    "    return temp_sum_1, temp_sum_2\n",
    "\n",
    "users_switching_cluster = 0\n",
    "idx = 0\n",
    "while True:\n",
    "    idx += 1\n",
    "    compute_similarity()\n",
    "    for u_idx, u in enumerate(user_index.values):\n",
    "        user_cluster = 0\n",
    "        err = np.array(pu.shape[0])\n",
    "        gu_cluster = np.zeros(pu.shape[0])\n",
    "        for cluster in range(pu.shape[0]):\n",
    "            user_cluster = cluster\n",
    "            u = u_idx # Convert to index from user_id\n",
    "            gu_cluster[cluster] = comp_gu(u, cluster)\n",
    "            # Compute training error\n",
    "            pred = get_rating_for_user(u, cluster)\n",
    "            err[cluster] = rmse(R[u, :], pred)\n",
    "        #END CLUSTER FOR LOOP\n",
    "        new_cluster_for_u = np.where(err == np.min(err))\n",
    "        if new_cluster_for_u != user_cluster:\n",
    "            np.delete(pu[user_cluster], user_index.values[u])\n",
    "            np.append(pu[new_cluster_for_u], user_index.values[u])\n",
    "            users_switching_cluster += 1\n",
    "            g[u] = gu_cluster[np.where(err == np.min(err))]\n",
    "            g_prime[u] = float(1 - g[u])\n",
    "    if users_switching_cluser < (0.10*user_index.values.shape[0]):\n",
    "        break"
   ]
  },
  {
   "cell_type": "code",
   "execution_count": null,
   "metadata": {
    "colab": {},
    "colab_type": "code",
    "id": "01Ldkw2SmTpE"
   },
   "outputs": [],
   "source": []
  }
 ],
 "metadata": {
  "accelerator": "GPU",
  "colab": {
   "name": "RecSys.ipynb",
   "provenance": [],
   "version": "0.3.2"
  },
  "kernelspec": {
   "display_name": "Python 3",
   "language": "python",
   "name": "python3"
  },
  "language_info": {
   "codemirror_mode": {
    "name": "ipython",
    "version": 3
   },
   "file_extension": ".py",
   "mimetype": "text/x-python",
   "name": "python",
   "nbconvert_exporter": "python",
   "pygments_lexer": "ipython3",
   "version": "3.6.7"
  }
 },
 "nbformat": 4,
 "nbformat_minor": 2
}
